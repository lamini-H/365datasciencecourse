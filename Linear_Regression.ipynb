{
 "cells": [
  {
   "cell_type": "markdown",
   "id": "4039093f",
   "metadata": {},
   "source": [
    "A linear regression is a linear approximation of a causal relationship between two or more variables\n",
    "\n",
    "Process\n",
    "1. Get a sample data\n",
    "2. Design a model that works for that sample\n",
    "3. Make predictions for the whole population\n",
    "\n",
    "Dependent\n",
    "  *predicted\n",
    "  \n",
    "Independent\n",
    "  *predictors\n",
    "  \n",
    "  Y = F(x1,x2,....,xk)\n",
    "  \n",
    "  The dependent variable Y is a function of the independent variables x1 to xk\n",
    "  \n",
    "  CORRELATION vs REGRESSION\n",
    "      "
   ]
  },
  {
   "cell_type": "code",
   "execution_count": null,
   "id": "df10977d",
   "metadata": {},
   "outputs": [],
   "source": [
    "Python packages relevant for this course\n",
    "numpy \n",
    "pandas\n",
    "scipy\n",
    "statsmodels.api\n",
    "matplotlib\n",
    "seaborn\n",
    "sklearn\n",
    "\n",
    "\n",
    "Numpy - a third-party package allowing us to work with multidimensional arrarys\n",
    "pandas - allows us to organize data in a tabular form and to attach descriptive labels to the rows and colums\n",
    "Matplotlib - a 2D plotting library specially designed for visualization of Numpy computations\n",
    "Seaborn is a python visualization library based on matplotlib. it provides a high-level interface for drawing attractive statistical graphics\n",
    "StatsModels- a package built on top of Numpy and Scipy, which integrates with pandas. SM provides very good summaries\n",
    "Scikit - learn is one of the most widely used machine learning libraries\n",
    "\n"
   ]
  }
 ],
 "metadata": {
  "kernelspec": {
   "display_name": "Python 3 (ipykernel)",
   "language": "python",
   "name": "python3"
  },
  "language_info": {
   "codemirror_mode": {
    "name": "ipython",
    "version": 3
   },
   "file_extension": ".py",
   "mimetype": "text/x-python",
   "name": "python",
   "nbconvert_exporter": "python",
   "pygments_lexer": "ipython3",
   "version": "3.9.7"
  }
 },
 "nbformat": 4,
 "nbformat_minor": 5
}
