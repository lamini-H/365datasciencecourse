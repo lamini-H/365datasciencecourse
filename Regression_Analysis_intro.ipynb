{
 "cells": [
  {
   "cell_type": "markdown",
   "id": "d37c41a6",
   "metadata": {},
   "source": [
    "Regression Analysis is the most common method for prediction\n",
    "it is used when we have causal relations with variables \n",
    "Cause and Effect\n",
    "Factor Analysis \n",
    "is used for supervise learning"
   ]
  }
 ],
 "metadata": {
  "kernelspec": {
   "display_name": "Python 3 (ipykernel)",
   "language": "python",
   "name": "python3"
  },
  "language_info": {
   "codemirror_mode": {
    "name": "ipython",
    "version": 3
   },
   "file_extension": ".py",
   "mimetype": "text/x-python",
   "name": "python",
   "nbconvert_exporter": "python",
   "pygments_lexer": "ipython3",
   "version": "3.9.7"
  }
 },
 "nbformat": 4,
 "nbformat_minor": 5
}
