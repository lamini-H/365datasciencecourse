{
 "cells": [
  {
   "cell_type": "markdown",
   "id": "35852076",
   "metadata": {},
   "source": [
    "if condition:\n",
    "    conditional code"
   ]
  },
  {
   "cell_type": "code",
   "execution_count": 2,
   "id": "f2e3a204",
   "metadata": {},
   "outputs": [
    {
     "name": "stdout",
     "output_type": "stream",
     "text": [
      "Hooray!\n"
     ]
    }
   ],
   "source": [
    " if 5 == 15/3:\n",
    "        print(\"Hooray!\")"
   ]
  },
  {
   "cell_type": "code",
   "execution_count": 5,
   "id": "27a5e499",
   "metadata": {},
   "outputs": [],
   "source": [
    "if 5 == 18/3:\n",
    "    print(\"Hooray\")"
   ]
  },
  {
   "cell_type": "code",
   "execution_count": 6,
   "id": "e40d5d25",
   "metadata": {},
   "outputs": [
    {
     "name": "stdout",
     "output_type": "stream",
     "text": [
      "Hooray\n"
     ]
    }
   ],
   "source": [
    "if 5!= 3*5:\n",
    "    print(\"Hooray\")"
   ]
  },
  {
   "cell_type": "markdown",
   "id": "4592830d",
   "metadata": {},
   "source": [
    "Else Statement \n",
    "\n",
    "if condition:\n",
    "    conditional code\n",
    "else:\n",
    "    else code"
   ]
  },
  {
   "cell_type": "code",
   "execution_count": 8,
   "id": "84eaa874",
   "metadata": {},
   "outputs": [
    {
     "name": "stdout",
     "output_type": "stream",
     "text": [
      "Case 2\n"
     ]
    }
   ],
   "source": [
    "x = 1\n",
    "if x > 3:\n",
    "    print(\"Case 1\")\n",
    "else:\n",
    "    print(\"Case 2\")"
   ]
  },
  {
   "cell_type": "markdown",
   "id": "e91779f6",
   "metadata": {},
   "source": [
    "elif Statements"
   ]
  },
  {
   "cell_type": "code",
   "execution_count": 18,
   "id": "a9b7be9d",
   "metadata": {},
   "outputs": [],
   "source": [
    "def compare_to_five(y):\n",
    "    if y > 5:\n",
    "        return \"Greater\"\n",
    "    elif y < 0:\n",
    "        return \"Negative\"\n",
    "    elif y < 5:\n",
    "        return \"Less\"\n",
    "    else:\n",
    "        return \"Equal\""
   ]
  },
  {
   "cell_type": "code",
   "execution_count": 20,
   "id": "e22b6722",
   "metadata": {},
   "outputs": [
    {
     "name": "stdout",
     "output_type": "stream",
     "text": [
      "Greater\n"
     ]
    }
   ],
   "source": [
    "print(compare_to_five(6))"
   ]
  },
  {
   "cell_type": "code",
   "execution_count": 12,
   "id": "8d98c6f3",
   "metadata": {},
   "outputs": [
    {
     "name": "stdout",
     "output_type": "stream",
     "text": [
      "Less\n"
     ]
    }
   ],
   "source": [
    "print(compare_to_five(3))"
   ]
  },
  {
   "cell_type": "code",
   "execution_count": 14,
   "id": "ac91db38",
   "metadata": {},
   "outputs": [
    {
     "name": "stdout",
     "output_type": "stream",
     "text": [
      "Equal\n"
     ]
    }
   ],
   "source": [
    "print(compare_to_five(5))"
   ]
  },
  {
   "cell_type": "code",
   "execution_count": 22,
   "id": "5181727b",
   "metadata": {},
   "outputs": [
    {
     "name": "stdout",
     "output_type": "stream",
     "text": [
      "Negative\n"
     ]
    }
   ],
   "source": [
    "print(compare_to_five(-3))"
   ]
  },
  {
   "cell_type": "code",
   "execution_count": 24,
   "id": "b7f7930d",
   "metadata": {},
   "outputs": [
    {
     "name": "stdout",
     "output_type": "stream",
     "text": [
      "Less\n"
     ]
    }
   ],
   "source": [
    "print(compare_to_five(0))"
   ]
  },
  {
   "cell_type": "code",
   "execution_count": null,
   "id": "6cdc3a57",
   "metadata": {},
   "outputs": [],
   "source": []
  },
  {
   "cell_type": "code",
   "execution_count": null,
   "id": "52591403",
   "metadata": {},
   "outputs": [],
   "source": []
  }
 ],
 "metadata": {
  "kernelspec": {
   "display_name": "Python 3 (ipykernel)",
   "language": "python",
   "name": "python3"
  },
  "language_info": {
   "codemirror_mode": {
    "name": "ipython",
    "version": 3
   },
   "file_extension": ".py",
   "mimetype": "text/x-python",
   "name": "python",
   "nbconvert_exporter": "python",
   "pygments_lexer": "ipython3",
   "version": "3.9.7"
  }
 },
 "nbformat": 4,
 "nbformat_minor": 5
}
