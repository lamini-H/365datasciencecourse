{
 "cells": [
  {
   "cell_type": "markdown",
   "id": "3dcf97f0",
   "metadata": {},
   "source": [
    "Tuples are a type of data sequences \n",
    "Tuples are immutable\n",
    "Tuple's elements are placed within paranthesis but not brackets"
   ]
  },
  {
   "cell_type": "code",
   "execution_count": 1,
   "id": "eeac0f6a",
   "metadata": {},
   "outputs": [
    {
     "data": {
      "text/plain": [
       "(40, 41, 42)"
      ]
     },
     "execution_count": 1,
     "metadata": {},
     "output_type": "execute_result"
    }
   ],
   "source": [
    "x = (40,41,42)\n",
    "x"
   ]
  },
  {
   "cell_type": "code",
   "execution_count": 2,
   "id": "58cba1eb",
   "metadata": {},
   "outputs": [
    {
     "data": {
      "text/plain": [
       "(50, 51, 52)"
      ]
     },
     "execution_count": 2,
     "metadata": {},
     "output_type": "execute_result"
    }
   ],
   "source": [
    "y = 50,51,52\n",
    "y"
   ]
  },
  {
   "cell_type": "code",
   "execution_count": 3,
   "id": "713e832c",
   "metadata": {},
   "outputs": [
    {
     "data": {
      "text/plain": [
       "6"
      ]
     },
     "execution_count": 3,
     "metadata": {},
     "output_type": "execute_result"
    }
   ],
   "source": [
    "a,b,c = 1,4,6\n",
    "c"
   ]
  },
  {
   "cell_type": "code",
   "execution_count": 4,
   "id": "dde8828b",
   "metadata": {},
   "outputs": [
    {
     "data": {
      "text/plain": [
       "[(40, 41, 42), (50, 51, 52)]"
      ]
     },
     "execution_count": 4,
     "metadata": {},
     "output_type": "execute_result"
    }
   ],
   "source": [
    "List_1 = [x,y] # using tuples in a list\n",
    "List_1"
   ]
  },
  {
   "cell_type": "code",
   "execution_count": 6,
   "id": "18544f1d",
   "metadata": {},
   "outputs": [
    {
     "name": "stdout",
     "output_type": "stream",
     "text": [
      "His age is 30\n",
      "He has attended school for 17years\n"
     ]
    }
   ],
   "source": [
    "(age, years_of_school) = \"30,17\".split #comma seperated \n",
    "print(\"His age is \" + age)\n",
    "print(\"He has attended school for \" + years_of_school + \"years\")"
   ]
  },
  {
   "cell_type": "markdown",
   "id": "553101ba",
   "metadata": {},
   "source": [
    "Functions can provide tuples as return values"
   ]
  },
  {
   "cell_type": "code",
   "execution_count": 9,
   "id": "bea49ac4",
   "metadata": {},
   "outputs": [
    {
     "name": "stdout",
     "output_type": "stream",
     "text": [
      "Area and Perimeter:\n"
     ]
    },
    {
     "data": {
      "text/plain": [
       "(16, 16)"
      ]
     },
     "execution_count": 9,
     "metadata": {},
     "output_type": "execute_result"
    }
   ],
   "source": [
    "def square_info(x):\n",
    "    A = x**2\n",
    "    P = 4*x\n",
    "    print(\"Area and Perimeter:\")\n",
    "    return A,P\n",
    "square_info(4) "
   ]
  },
  {
   "cell_type": "code",
   "execution_count": null,
   "id": "e3109040",
   "metadata": {},
   "outputs": [],
   "source": []
  }
 ],
 "metadata": {
  "kernelspec": {
   "display_name": "Python 3 (ipykernel)",
   "language": "python",
   "name": "python3"
  },
  "language_info": {
   "codemirror_mode": {
    "name": "ipython",
    "version": 3
   },
   "file_extension": ".py",
   "mimetype": "text/x-python",
   "name": "python",
   "nbconvert_exporter": "python",
   "pygments_lexer": "ipython3",
   "version": "3.9.7"
  }
 },
 "nbformat": 4,
 "nbformat_minor": 5
}
