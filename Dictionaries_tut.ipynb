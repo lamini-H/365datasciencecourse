{
 "cells": [
  {
   "cell_type": "markdown",
   "id": "09013ca6",
   "metadata": {},
   "source": [
    "Dictionaries represent another way of storing data\n",
    "key and its associated value\n",
    "key-value pair\n",
    "Dictionaries use curly brackets\n",
    "\n",
    "Values can be access by it key instead of its index"
   ]
  },
  {
   "cell_type": "code",
   "execution_count": 1,
   "id": "299bfd83",
   "metadata": {},
   "outputs": [
    {
     "data": {
      "text/plain": [
       "{'k1': 'cat', 'k2': 'dog', 'k3': 'mouse', 'k4': 'fish'}"
      ]
     },
     "execution_count": 1,
     "metadata": {},
     "output_type": "execute_result"
    }
   ],
   "source": [
    "dict = {'k1': \"cat\",'k2':\"dog\",'k3':\"mouse\",'k4':\"fish\"}\n",
    "dict"
   ]
  },
  {
   "cell_type": "code",
   "execution_count": 2,
   "id": "9b177354",
   "metadata": {},
   "outputs": [
    {
     "data": {
      "text/plain": [
       "'cat'"
      ]
     },
     "execution_count": 2,
     "metadata": {},
     "output_type": "execute_result"
    }
   ],
   "source": [
    "dict['k1']"
   ]
  },
  {
   "cell_type": "markdown",
   "id": "e5baa63b",
   "metadata": {},
   "source": [
    "#adding new element to dictionary\n",
    "#dictionary_name[new_key_name] = new_value_name"
   ]
  },
  {
   "cell_type": "code",
   "execution_count": 3,
   "id": "02eba7ae",
   "metadata": {},
   "outputs": [
    {
     "data": {
      "text/plain": [
       "{'k1': 'cat', 'k2': 'dog', 'k3': 'mouse', 'k4': 'fish', 'k5': 'parrot'}"
      ]
     },
     "execution_count": 3,
     "metadata": {},
     "output_type": "execute_result"
    }
   ],
   "source": [
    "dict['k5'] = 'parrot'\n",
    "dict"
   ]
  },
  {
   "cell_type": "code",
   "execution_count": 4,
   "id": "5146cede",
   "metadata": {},
   "outputs": [],
   "source": [
    "dict['k2'] = 'squirrel'# replacing new value with exiting one"
   ]
  },
  {
   "cell_type": "code",
   "execution_count": 5,
   "id": "8b105250",
   "metadata": {},
   "outputs": [
    {
     "data": {
      "text/plain": [
       "{'k1': 'cat', 'k2': 'squirrel', 'k3': 'mouse', 'k4': 'fish', 'k5': 'parrot'}"
      ]
     },
     "execution_count": 5,
     "metadata": {},
     "output_type": "execute_result"
    }
   ],
   "source": [
    "dict"
   ]
  },
  {
   "cell_type": "markdown",
   "id": "f6e35788",
   "metadata": {},
   "source": [
    "List from dictionaries"
   ]
  },
  {
   "cell_type": "code",
   "execution_count": 6,
   "id": "ed7ce5b3",
   "metadata": {},
   "outputs": [],
   "source": [
    "dep_workers = {'dep_1':'Perter', 'dep_2':['Jennifer','Michael','Tommy']}"
   ]
  },
  {
   "cell_type": "code",
   "execution_count": 7,
   "id": "5927f4ab",
   "metadata": {},
   "outputs": [
    {
     "data": {
      "text/plain": [
       "['Jennifer', 'Michael', 'Tommy']"
      ]
     },
     "execution_count": 7,
     "metadata": {},
     "output_type": "execute_result"
    }
   ],
   "source": [
    "dep_workers['dep_2']"
   ]
  },
  {
   "cell_type": "markdown",
   "id": "76a48886",
   "metadata": {},
   "source": [
    "Another way of creating dictionary"
   ]
  },
  {
   "cell_type": "code",
   "execution_count": 8,
   "id": "018fb0a0",
   "metadata": {},
   "outputs": [
    {
     "name": "stdout",
     "output_type": "stream",
     "text": [
      "{'Point Guard': 'Dirk', 'Shooting Guard': 'Al', 'Small Forward': 'Sean', 'Power Forward': 'Alexander', 'Center': 'Hector'}\n"
     ]
    }
   ],
   "source": [
    "Team = {}\n",
    "Team['Point Guard'] = 'Dirk'\n",
    "Team['Shooting Guard'] = 'Al'\n",
    "Team['Small Forward'] = 'Sean'\n",
    "Team['Power Forward'] = 'Alexander'\n",
    "Team['Center'] = 'Hector'\n",
    "print(Team)"
   ]
  },
  {
   "cell_type": "code",
   "execution_count": 9,
   "id": "7b91cd10",
   "metadata": {},
   "outputs": [
    {
     "name": "stdout",
     "output_type": "stream",
     "text": [
      "Hector\n"
     ]
    }
   ],
   "source": [
    "print(Team['Center'])"
   ]
  },
  {
   "cell_type": "code",
   "execution_count": 10,
   "id": "36097e2f",
   "metadata": {},
   "outputs": [
    {
     "name": "stdout",
     "output_type": "stream",
     "text": [
      "None\n"
     ]
    }
   ],
   "source": [
    "print(Team.get('Coach')) # when object does not exit in the dictionary"
   ]
  },
  {
   "cell_type": "code",
   "execution_count": null,
   "id": "25ddb824",
   "metadata": {},
   "outputs": [],
   "source": []
  }
 ],
 "metadata": {
  "kernelspec": {
   "display_name": "Python 3 (ipykernel)",
   "language": "python",
   "name": "python3"
  },
  "language_info": {
   "codemirror_mode": {
    "name": "ipython",
    "version": 3
   },
   "file_extension": ".py",
   "mimetype": "text/x-python",
   "name": "python",
   "nbconvert_exporter": "python",
   "pygments_lexer": "ipython3",
   "version": "3.9.7"
  }
 },
 "nbformat": 4,
 "nbformat_minor": 5
}
